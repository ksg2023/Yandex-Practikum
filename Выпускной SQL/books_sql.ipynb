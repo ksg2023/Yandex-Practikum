{
 "cells": [
  {
   "cell_type": "markdown",
   "id": "9cd156a0",
   "metadata": {},
   "source": [
    "# Анализ данных сервиса для чтения книг по подписке"
   ]
  },
  {
   "cell_type": "markdown",
   "id": "4347a44f",
   "metadata": {},
   "source": [
    "### Цель исследования\n",
    "\n",
    "проанализировать базу данных — информация о книгах, издательствах, авторах, а также пользовательские обзоры книг. Сформулировать ценностное предложение для нового продукта.\n",
    "\n",
    "### Задания\n",
    "\n",
    "- Посчитайте, сколько книг вышло после 1 января 2000 года;\n",
    "- Для каждой книги посчитайте количество обзоров и среднюю оценку;\n",
    "- Определите издательство, которое выпустило наибольшее число книг толще 50 страниц — так вы исключите из анализа брошюры;\n",
    "- Определите автора с самой высокой средней оценкой книг — учитывайте только книги с 50 и более оценками;\n",
    "- Посчитайте среднее количество обзоров от пользователей, которые поставили больше 48 оценок.\n"
   ]
  },
  {
   "cell_type": "markdown",
   "id": "3ddfe98c",
   "metadata": {},
   "source": []
  },
  {
   "cell_type": "code",
   "execution_count": 1,
   "id": "d5ef9639",
   "metadata": {},
   "outputs": [],
   "source": [
    "# импортируем библиотеки\n",
    "import pandas as pd\n",
    "from sqlalchemy import text, create_engine\n",
    "\n",
    "# устанавливаем параметры\n",
    "db_config = {'user': 'praktikum_student', # имя пользователя\n",
    "'pwd': 'Sdf4$2;d-d30pp', # пароль\n",
    "'host': 'rc1b-wcoijxj3yxfsf3fs.mdb.yandexcloud.net',\n",
    "'port': 6432, # порт подключения\n",
    "'db': 'data-analyst-final-project-db'} # название базы данных\n",
    "connection_string = 'postgresql://{user}:{pwd}@{host}:{port}/{db}'.format(**db_config)\n",
    "\n",
    "# сохраняем коннектор\n",
    "engine = create_engine(connection_string, connect_args={'sslmode':'require'})\n",
    "\n"
   ]
  },
  {
   "cell_type": "markdown",
   "id": "cc2862a1",
   "metadata": {},
   "source": [
    "# Таблицы"
   ]
  },
  {
   "cell_type": "markdown",
   "id": "74be3dc1",
   "metadata": {},
   "source": [
    "## Таблица books"
   ]
  },
  {
   "cell_type": "code",
   "execution_count": 2,
   "id": "1d3a9d2c",
   "metadata": {},
   "outputs": [
    {
     "data": {
      "text/html": [
       "<div>\n",
       "<style scoped>\n",
       "    .dataframe tbody tr th:only-of-type {\n",
       "        vertical-align: middle;\n",
       "    }\n",
       "\n",
       "    .dataframe tbody tr th {\n",
       "        vertical-align: top;\n",
       "    }\n",
       "\n",
       "    .dataframe thead th {\n",
       "        text-align: right;\n",
       "    }\n",
       "</style>\n",
       "<table border=\"1\" class=\"dataframe\">\n",
       "  <thead>\n",
       "    <tr style=\"text-align: right;\">\n",
       "      <th></th>\n",
       "      <th>book_id</th>\n",
       "      <th>author_id</th>\n",
       "      <th>title</th>\n",
       "      <th>num_pages</th>\n",
       "      <th>publication_date</th>\n",
       "      <th>publisher_id</th>\n",
       "    </tr>\n",
       "  </thead>\n",
       "  <tbody>\n",
       "    <tr>\n",
       "      <th>0</th>\n",
       "      <td>1</td>\n",
       "      <td>546</td>\n",
       "      <td>'Salem's Lot</td>\n",
       "      <td>594</td>\n",
       "      <td>2005-11-01</td>\n",
       "      <td>93</td>\n",
       "    </tr>\n",
       "    <tr>\n",
       "      <th>1</th>\n",
       "      <td>2</td>\n",
       "      <td>465</td>\n",
       "      <td>1 000 Places to See Before You Die</td>\n",
       "      <td>992</td>\n",
       "      <td>2003-05-22</td>\n",
       "      <td>336</td>\n",
       "    </tr>\n",
       "    <tr>\n",
       "      <th>2</th>\n",
       "      <td>3</td>\n",
       "      <td>407</td>\n",
       "      <td>13 Little Blue Envelopes (Little Blue Envelope...</td>\n",
       "      <td>322</td>\n",
       "      <td>2010-12-21</td>\n",
       "      <td>135</td>\n",
       "    </tr>\n",
       "    <tr>\n",
       "      <th>3</th>\n",
       "      <td>4</td>\n",
       "      <td>82</td>\n",
       "      <td>1491: New Revelations of the Americas Before C...</td>\n",
       "      <td>541</td>\n",
       "      <td>2006-10-10</td>\n",
       "      <td>309</td>\n",
       "    </tr>\n",
       "    <tr>\n",
       "      <th>4</th>\n",
       "      <td>5</td>\n",
       "      <td>125</td>\n",
       "      <td>1776</td>\n",
       "      <td>386</td>\n",
       "      <td>2006-07-04</td>\n",
       "      <td>268</td>\n",
       "    </tr>\n",
       "  </tbody>\n",
       "</table>\n",
       "</div>"
      ],
      "text/plain": [
       "   book_id  author_id                                              title  \\\n",
       "0        1        546                                       'Salem's Lot   \n",
       "1        2        465                 1 000 Places to See Before You Die   \n",
       "2        3        407  13 Little Blue Envelopes (Little Blue Envelope...   \n",
       "3        4         82  1491: New Revelations of the Americas Before C...   \n",
       "4        5        125                                               1776   \n",
       "\n",
       "   num_pages publication_date  publisher_id  \n",
       "0        594       2005-11-01            93  \n",
       "1        992       2003-05-22           336  \n",
       "2        322       2010-12-21           135  \n",
       "3        541       2006-10-10           309  \n",
       "4        386       2006-07-04           268  "
      ]
     },
     "execution_count": 2,
     "metadata": {},
     "output_type": "execute_result"
    }
   ],
   "source": [
    "query = ''' SELECT *\n",
    "            FROM books\n",
    "        '''\n",
    "books=pd.io.sql.read_sql(query, con = engine)\n",
    "\n",
    "books.head()"
   ]
  },
  {
   "cell_type": "markdown",
   "id": "16739786",
   "metadata": {},
   "source": [
    "Содержит данные о книгах"
   ]
  },
  {
   "cell_type": "markdown",
   "id": "3a9d39d2",
   "metadata": {},
   "source": [
    "## **Таблица `authors`**\n"
   ]
  },
  {
   "cell_type": "code",
   "execution_count": 3,
   "id": "cdbada54",
   "metadata": {},
   "outputs": [
    {
     "data": {
      "text/html": [
       "<div>\n",
       "<style scoped>\n",
       "    .dataframe tbody tr th:only-of-type {\n",
       "        vertical-align: middle;\n",
       "    }\n",
       "\n",
       "    .dataframe tbody tr th {\n",
       "        vertical-align: top;\n",
       "    }\n",
       "\n",
       "    .dataframe thead th {\n",
       "        text-align: right;\n",
       "    }\n",
       "</style>\n",
       "<table border=\"1\" class=\"dataframe\">\n",
       "  <thead>\n",
       "    <tr style=\"text-align: right;\">\n",
       "      <th></th>\n",
       "      <th>author_id</th>\n",
       "      <th>author</th>\n",
       "    </tr>\n",
       "  </thead>\n",
       "  <tbody>\n",
       "    <tr>\n",
       "      <th>0</th>\n",
       "      <td>1</td>\n",
       "      <td>A.S. Byatt</td>\n",
       "    </tr>\n",
       "    <tr>\n",
       "      <th>1</th>\n",
       "      <td>2</td>\n",
       "      <td>Aesop/Laura Harris/Laura Gibbs</td>\n",
       "    </tr>\n",
       "    <tr>\n",
       "      <th>2</th>\n",
       "      <td>3</td>\n",
       "      <td>Agatha Christie</td>\n",
       "    </tr>\n",
       "    <tr>\n",
       "      <th>3</th>\n",
       "      <td>4</td>\n",
       "      <td>Alan Brennert</td>\n",
       "    </tr>\n",
       "    <tr>\n",
       "      <th>4</th>\n",
       "      <td>5</td>\n",
       "      <td>Alan Moore/David   Lloyd</td>\n",
       "    </tr>\n",
       "  </tbody>\n",
       "</table>\n",
       "</div>"
      ],
      "text/plain": [
       "   author_id                          author\n",
       "0          1                      A.S. Byatt\n",
       "1          2  Aesop/Laura Harris/Laura Gibbs\n",
       "2          3                 Agatha Christie\n",
       "3          4                   Alan Brennert\n",
       "4          5        Alan Moore/David   Lloyd"
      ]
     },
     "execution_count": 3,
     "metadata": {},
     "output_type": "execute_result"
    }
   ],
   "source": [
    "query = ''' SELECT *\n",
    "            FROM authors\n",
    "        '''\n",
    "authors=pd.io.sql.read_sql(query, con = engine)\n",
    "\n",
    "authors.head()"
   ]
  },
  {
   "cell_type": "markdown",
   "id": "44a0caf0",
   "metadata": {},
   "source": [
    "\n",
    "Содержит данные об авторах"
   ]
  },
  {
   "cell_type": "markdown",
   "id": "a612542c",
   "metadata": {},
   "source": [
    "## **Таблица `publishers`**\n"
   ]
  },
  {
   "cell_type": "code",
   "execution_count": 4,
   "id": "f5560a11",
   "metadata": {},
   "outputs": [
    {
     "data": {
      "text/html": [
       "<div>\n",
       "<style scoped>\n",
       "    .dataframe tbody tr th:only-of-type {\n",
       "        vertical-align: middle;\n",
       "    }\n",
       "\n",
       "    .dataframe tbody tr th {\n",
       "        vertical-align: top;\n",
       "    }\n",
       "\n",
       "    .dataframe thead th {\n",
       "        text-align: right;\n",
       "    }\n",
       "</style>\n",
       "<table border=\"1\" class=\"dataframe\">\n",
       "  <thead>\n",
       "    <tr style=\"text-align: right;\">\n",
       "      <th></th>\n",
       "      <th>publisher_id</th>\n",
       "      <th>publisher</th>\n",
       "    </tr>\n",
       "  </thead>\n",
       "  <tbody>\n",
       "    <tr>\n",
       "      <th>0</th>\n",
       "      <td>1</td>\n",
       "      <td>Ace</td>\n",
       "    </tr>\n",
       "    <tr>\n",
       "      <th>1</th>\n",
       "      <td>2</td>\n",
       "      <td>Ace Book</td>\n",
       "    </tr>\n",
       "    <tr>\n",
       "      <th>2</th>\n",
       "      <td>3</td>\n",
       "      <td>Ace Books</td>\n",
       "    </tr>\n",
       "    <tr>\n",
       "      <th>3</th>\n",
       "      <td>4</td>\n",
       "      <td>Ace Hardcover</td>\n",
       "    </tr>\n",
       "    <tr>\n",
       "      <th>4</th>\n",
       "      <td>5</td>\n",
       "      <td>Addison Wesley Publishing Company</td>\n",
       "    </tr>\n",
       "  </tbody>\n",
       "</table>\n",
       "</div>"
      ],
      "text/plain": [
       "   publisher_id                          publisher\n",
       "0             1                                Ace\n",
       "1             2                           Ace Book\n",
       "2             3                          Ace Books\n",
       "3             4                      Ace Hardcover\n",
       "4             5  Addison Wesley Publishing Company"
      ]
     },
     "execution_count": 4,
     "metadata": {},
     "output_type": "execute_result"
    }
   ],
   "source": [
    "query = ''' SELECT *\n",
    "            FROM publishers\n",
    "        '''\n",
    "publishers=pd.io.sql.read_sql(query, con = engine)\n",
    "\n",
    "publishers.head()"
   ]
  },
  {
   "cell_type": "markdown",
   "id": "651914ec",
   "metadata": {},
   "source": [
    "Содержит данные об издательствах"
   ]
  },
  {
   "cell_type": "markdown",
   "id": "0cb7e6a5",
   "metadata": {},
   "source": [
    "## **Таблица `ratings`**\n",
    "\n"
   ]
  },
  {
   "cell_type": "code",
   "execution_count": 5,
   "id": "55be75af",
   "metadata": {},
   "outputs": [
    {
     "data": {
      "text/html": [
       "<div>\n",
       "<style scoped>\n",
       "    .dataframe tbody tr th:only-of-type {\n",
       "        vertical-align: middle;\n",
       "    }\n",
       "\n",
       "    .dataframe tbody tr th {\n",
       "        vertical-align: top;\n",
       "    }\n",
       "\n",
       "    .dataframe thead th {\n",
       "        text-align: right;\n",
       "    }\n",
       "</style>\n",
       "<table border=\"1\" class=\"dataframe\">\n",
       "  <thead>\n",
       "    <tr style=\"text-align: right;\">\n",
       "      <th></th>\n",
       "      <th>rating_id</th>\n",
       "      <th>book_id</th>\n",
       "      <th>username</th>\n",
       "      <th>rating</th>\n",
       "    </tr>\n",
       "  </thead>\n",
       "  <tbody>\n",
       "    <tr>\n",
       "      <th>0</th>\n",
       "      <td>1</td>\n",
       "      <td>1</td>\n",
       "      <td>ryanfranco</td>\n",
       "      <td>4</td>\n",
       "    </tr>\n",
       "    <tr>\n",
       "      <th>1</th>\n",
       "      <td>2</td>\n",
       "      <td>1</td>\n",
       "      <td>grantpatricia</td>\n",
       "      <td>2</td>\n",
       "    </tr>\n",
       "    <tr>\n",
       "      <th>2</th>\n",
       "      <td>3</td>\n",
       "      <td>1</td>\n",
       "      <td>brandtandrea</td>\n",
       "      <td>5</td>\n",
       "    </tr>\n",
       "    <tr>\n",
       "      <th>3</th>\n",
       "      <td>4</td>\n",
       "      <td>2</td>\n",
       "      <td>lorichen</td>\n",
       "      <td>3</td>\n",
       "    </tr>\n",
       "    <tr>\n",
       "      <th>4</th>\n",
       "      <td>5</td>\n",
       "      <td>2</td>\n",
       "      <td>mariokeller</td>\n",
       "      <td>2</td>\n",
       "    </tr>\n",
       "  </tbody>\n",
       "</table>\n",
       "</div>"
      ],
      "text/plain": [
       "   rating_id  book_id       username  rating\n",
       "0          1        1     ryanfranco       4\n",
       "1          2        1  grantpatricia       2\n",
       "2          3        1   brandtandrea       5\n",
       "3          4        2       lorichen       3\n",
       "4          5        2    mariokeller       2"
      ]
     },
     "execution_count": 5,
     "metadata": {},
     "output_type": "execute_result"
    }
   ],
   "source": [
    "query = ''' SELECT *\n",
    "            FROM ratings\n",
    "        '''\n",
    "ratings=pd.io.sql.read_sql(query, con = engine)\n",
    "\n",
    "ratings.head()"
   ]
  },
  {
   "cell_type": "markdown",
   "id": "0afefd19",
   "metadata": {},
   "source": [
    "Содержит данные о пользовательских оценках книг"
   ]
  },
  {
   "cell_type": "markdown",
   "id": "86689086",
   "metadata": {},
   "source": [
    "## **Таблица `reviews`**\n"
   ]
  },
  {
   "cell_type": "code",
   "execution_count": 6,
   "id": "ed652d55",
   "metadata": {},
   "outputs": [
    {
     "data": {
      "text/html": [
       "<div>\n",
       "<style scoped>\n",
       "    .dataframe tbody tr th:only-of-type {\n",
       "        vertical-align: middle;\n",
       "    }\n",
       "\n",
       "    .dataframe tbody tr th {\n",
       "        vertical-align: top;\n",
       "    }\n",
       "\n",
       "    .dataframe thead th {\n",
       "        text-align: right;\n",
       "    }\n",
       "</style>\n",
       "<table border=\"1\" class=\"dataframe\">\n",
       "  <thead>\n",
       "    <tr style=\"text-align: right;\">\n",
       "      <th></th>\n",
       "      <th>review_id</th>\n",
       "      <th>book_id</th>\n",
       "      <th>username</th>\n",
       "      <th>text</th>\n",
       "    </tr>\n",
       "  </thead>\n",
       "  <tbody>\n",
       "    <tr>\n",
       "      <th>0</th>\n",
       "      <td>1</td>\n",
       "      <td>1</td>\n",
       "      <td>brandtandrea</td>\n",
       "      <td>Mention society tell send professor analysis. ...</td>\n",
       "    </tr>\n",
       "    <tr>\n",
       "      <th>1</th>\n",
       "      <td>2</td>\n",
       "      <td>1</td>\n",
       "      <td>ryanfranco</td>\n",
       "      <td>Foot glass pretty audience hit themselves. Amo...</td>\n",
       "    </tr>\n",
       "    <tr>\n",
       "      <th>2</th>\n",
       "      <td>3</td>\n",
       "      <td>2</td>\n",
       "      <td>lorichen</td>\n",
       "      <td>Listen treat keep worry. Miss husband tax but ...</td>\n",
       "    </tr>\n",
       "    <tr>\n",
       "      <th>3</th>\n",
       "      <td>4</td>\n",
       "      <td>3</td>\n",
       "      <td>johnsonamanda</td>\n",
       "      <td>Finally month interesting blue could nature cu...</td>\n",
       "    </tr>\n",
       "    <tr>\n",
       "      <th>4</th>\n",
       "      <td>5</td>\n",
       "      <td>3</td>\n",
       "      <td>scotttamara</td>\n",
       "      <td>Nation purpose heavy give wait song will. List...</td>\n",
       "    </tr>\n",
       "  </tbody>\n",
       "</table>\n",
       "</div>"
      ],
      "text/plain": [
       "   review_id  book_id       username  \\\n",
       "0          1        1   brandtandrea   \n",
       "1          2        1     ryanfranco   \n",
       "2          3        2       lorichen   \n",
       "3          4        3  johnsonamanda   \n",
       "4          5        3    scotttamara   \n",
       "\n",
       "                                                text  \n",
       "0  Mention society tell send professor analysis. ...  \n",
       "1  Foot glass pretty audience hit themselves. Amo...  \n",
       "2  Listen treat keep worry. Miss husband tax but ...  \n",
       "3  Finally month interesting blue could nature cu...  \n",
       "4  Nation purpose heavy give wait song will. List...  "
      ]
     },
     "execution_count": 6,
     "metadata": {},
     "output_type": "execute_result"
    }
   ],
   "source": [
    "query = ''' SELECT *\n",
    "            FROM reviews\n",
    "        '''\n",
    "reviews=pd.io.sql.read_sql(query, con = engine)\n",
    "\n",
    "reviews.head()"
   ]
  },
  {
   "cell_type": "markdown",
   "id": "0de8356c",
   "metadata": {},
   "source": [
    "Содержит данные о пользовательских обзорах на книги"
   ]
  },
  {
   "cell_type": "markdown",
   "id": "ac37aeba",
   "metadata": {},
   "source": [
    "### Посчитайте, сколько книг вышло после 1 января 2000 года;"
   ]
  },
  {
   "cell_type": "code",
   "execution_count": 7,
   "id": "97cfce88",
   "metadata": {},
   "outputs": [
    {
     "data": {
      "text/html": [
       "<div>\n",
       "<style scoped>\n",
       "    .dataframe tbody tr th:only-of-type {\n",
       "        vertical-align: middle;\n",
       "    }\n",
       "\n",
       "    .dataframe tbody tr th {\n",
       "        vertical-align: top;\n",
       "    }\n",
       "\n",
       "    .dataframe thead th {\n",
       "        text-align: right;\n",
       "    }\n",
       "</style>\n",
       "<table border=\"1\" class=\"dataframe\">\n",
       "  <thead>\n",
       "    <tr style=\"text-align: right;\">\n",
       "      <th></th>\n",
       "      <th>books_after_01_01_20</th>\n",
       "    </tr>\n",
       "  </thead>\n",
       "  <tbody>\n",
       "    <tr>\n",
       "      <th>0</th>\n",
       "      <td>819</td>\n",
       "    </tr>\n",
       "  </tbody>\n",
       "</table>\n",
       "</div>"
      ],
      "text/plain": [
       "   books_after_01_01_20\n",
       "0                   819"
      ]
     },
     "execution_count": 7,
     "metadata": {},
     "output_type": "execute_result"
    }
   ],
   "source": [
    "query_1 = '''\n",
    "        SELECT COUNT(*) AS books_after_01_01_20\n",
    "            \n",
    "        FROM \n",
    "            books\n",
    "            \n",
    "        WHERE\n",
    "            publication_date > '2000-01-01'\n",
    "        '''\n",
    "query_1 = pd.io.sql.read_sql(query_1, con = engine)\n",
    "\n",
    "query_1"
   ]
  },
  {
   "cell_type": "markdown",
   "id": "eb58e4af",
   "metadata": {},
   "source": [
    "819 книг вышло после 1 января 2000 года"
   ]
  },
  {
   "cell_type": "markdown",
   "id": "649cce1a",
   "metadata": {},
   "source": []
  },
  {
   "cell_type": "markdown",
   "id": "db657858",
   "metadata": {},
   "source": [
    "### Для каждой книги посчитайте количество обзоров и среднюю оценку;"
   ]
  },
  {
   "cell_type": "code",
   "execution_count": 8,
   "id": "2110c16b",
   "metadata": {},
   "outputs": [
    {
     "data": {
      "text/html": [
       "<div>\n",
       "<style scoped>\n",
       "    .dataframe tbody tr th:only-of-type {\n",
       "        vertical-align: middle;\n",
       "    }\n",
       "\n",
       "    .dataframe tbody tr th {\n",
       "        vertical-align: top;\n",
       "    }\n",
       "\n",
       "    .dataframe thead th {\n",
       "        text-align: right;\n",
       "    }\n",
       "</style>\n",
       "<table border=\"1\" class=\"dataframe\">\n",
       "  <thead>\n",
       "    <tr style=\"text-align: right;\">\n",
       "      <th></th>\n",
       "      <th>book_id</th>\n",
       "      <th>title</th>\n",
       "      <th>reviews_count</th>\n",
       "      <th>av_ratings</th>\n",
       "    </tr>\n",
       "  </thead>\n",
       "  <tbody>\n",
       "    <tr>\n",
       "      <th>0</th>\n",
       "      <td>948</td>\n",
       "      <td>Twilight (Twilight  #1)</td>\n",
       "      <td>7</td>\n",
       "      <td>3.66</td>\n",
       "    </tr>\n",
       "    <tr>\n",
       "      <th>1</th>\n",
       "      <td>302</td>\n",
       "      <td>Harry Potter and the Prisoner of Azkaban (Harr...</td>\n",
       "      <td>6</td>\n",
       "      <td>4.41</td>\n",
       "    </tr>\n",
       "    <tr>\n",
       "      <th>2</th>\n",
       "      <td>299</td>\n",
       "      <td>Harry Potter and the Chamber of Secrets (Harry...</td>\n",
       "      <td>6</td>\n",
       "      <td>4.29</td>\n",
       "    </tr>\n",
       "    <tr>\n",
       "      <th>3</th>\n",
       "      <td>656</td>\n",
       "      <td>The Book Thief</td>\n",
       "      <td>6</td>\n",
       "      <td>4.26</td>\n",
       "    </tr>\n",
       "    <tr>\n",
       "      <th>4</th>\n",
       "      <td>734</td>\n",
       "      <td>The Glass Castle</td>\n",
       "      <td>6</td>\n",
       "      <td>4.21</td>\n",
       "    </tr>\n",
       "    <tr>\n",
       "      <th>...</th>\n",
       "      <td>...</td>\n",
       "      <td>...</td>\n",
       "      <td>...</td>\n",
       "      <td>...</td>\n",
       "    </tr>\n",
       "    <tr>\n",
       "      <th>995</th>\n",
       "      <td>191</td>\n",
       "      <td>Disney's Beauty and the Beast (A Little Golden...</td>\n",
       "      <td>0</td>\n",
       "      <td>4.00</td>\n",
       "    </tr>\n",
       "    <tr>\n",
       "      <th>996</th>\n",
       "      <td>387</td>\n",
       "      <td>Leonardo's Notebooks</td>\n",
       "      <td>0</td>\n",
       "      <td>4.00</td>\n",
       "    </tr>\n",
       "    <tr>\n",
       "      <th>997</th>\n",
       "      <td>221</td>\n",
       "      <td>Essential Tales and Poems</td>\n",
       "      <td>0</td>\n",
       "      <td>4.00</td>\n",
       "    </tr>\n",
       "    <tr>\n",
       "      <th>998</th>\n",
       "      <td>83</td>\n",
       "      <td>Anne Rice's The Vampire Lestat: A Graphic Novel</td>\n",
       "      <td>0</td>\n",
       "      <td>3.67</td>\n",
       "    </tr>\n",
       "    <tr>\n",
       "      <th>999</th>\n",
       "      <td>808</td>\n",
       "      <td>The Natural Way to Draw</td>\n",
       "      <td>0</td>\n",
       "      <td>3.00</td>\n",
       "    </tr>\n",
       "  </tbody>\n",
       "</table>\n",
       "<p>1000 rows × 4 columns</p>\n",
       "</div>"
      ],
      "text/plain": [
       "     book_id                                              title  \\\n",
       "0        948                            Twilight (Twilight  #1)   \n",
       "1        302  Harry Potter and the Prisoner of Azkaban (Harr...   \n",
       "2        299  Harry Potter and the Chamber of Secrets (Harry...   \n",
       "3        656                                     The Book Thief   \n",
       "4        734                                   The Glass Castle   \n",
       "..       ...                                                ...   \n",
       "995      191  Disney's Beauty and the Beast (A Little Golden...   \n",
       "996      387                               Leonardo's Notebooks   \n",
       "997      221                          Essential Tales and Poems   \n",
       "998       83    Anne Rice's The Vampire Lestat: A Graphic Novel   \n",
       "999      808                            The Natural Way to Draw   \n",
       "\n",
       "     reviews_count  av_ratings  \n",
       "0                7        3.66  \n",
       "1                6        4.41  \n",
       "2                6        4.29  \n",
       "3                6        4.26  \n",
       "4                6        4.21  \n",
       "..             ...         ...  \n",
       "995              0        4.00  \n",
       "996              0        4.00  \n",
       "997              0        4.00  \n",
       "998              0        3.67  \n",
       "999              0        3.00  \n",
       "\n",
       "[1000 rows x 4 columns]"
      ]
     },
     "execution_count": 8,
     "metadata": {},
     "output_type": "execute_result"
    }
   ],
   "source": [
    "query_2 = '''\n",
    "        SELECT \n",
    "            b.book_id,\n",
    "            b.title,\n",
    "            COUNT(DISTINCT reviews.review_id) AS reviews_count, \n",
    "            ROUND(AVG(ratings.rating), 2) AS av_ratings\n",
    "             \n",
    "        FROM \n",
    "            books b\n",
    "        LEFT JOIN reviews ON reviews.book_id = b.book_id \n",
    "        LEFT JOIN ratings ON ratings.book_id = b.book_id\n",
    "            \n",
    "        GROUP BY \n",
    "            b.book_id\n",
    "            \n",
    "        ORDER BY \n",
    "            reviews_count DESC,\n",
    "            av_ratings DESC         \n",
    "                        \n",
    "               '''\n",
    "query_2 = pd.io.sql.read_sql(query_2, con = engine)\n",
    "\n",
    "query_2"
   ]
  },
  {
   "cell_type": "markdown",
   "id": "3c2fe18f",
   "metadata": {},
   "source": [
    "Больше всего обзоров у Twilight (Twilight #1) -7шт\t- средняя оценка 3,66"
   ]
  },
  {
   "cell_type": "markdown",
   "id": "039dd2ff",
   "metadata": {},
   "source": []
  },
  {
   "cell_type": "markdown",
   "id": "483219bd",
   "metadata": {},
   "source": [
    "## Определите издательство, которое выпустило наибольшее число книг толще 50 страниц"
   ]
  },
  {
   "cell_type": "code",
   "execution_count": 9,
   "id": "95cf3486",
   "metadata": {},
   "outputs": [
    {
     "data": {
      "text/html": [
       "<div>\n",
       "<style scoped>\n",
       "    .dataframe tbody tr th:only-of-type {\n",
       "        vertical-align: middle;\n",
       "    }\n",
       "\n",
       "    .dataframe tbody tr th {\n",
       "        vertical-align: top;\n",
       "    }\n",
       "\n",
       "    .dataframe thead th {\n",
       "        text-align: right;\n",
       "    }\n",
       "</style>\n",
       "<table border=\"1\" class=\"dataframe\">\n",
       "  <thead>\n",
       "    <tr style=\"text-align: right;\">\n",
       "      <th></th>\n",
       "      <th>publisher_id</th>\n",
       "      <th>publisher</th>\n",
       "      <th>books_total</th>\n",
       "    </tr>\n",
       "  </thead>\n",
       "  <tbody>\n",
       "    <tr>\n",
       "      <th>0</th>\n",
       "      <td>212</td>\n",
       "      <td>Penguin Books</td>\n",
       "      <td>42</td>\n",
       "    </tr>\n",
       "  </tbody>\n",
       "</table>\n",
       "</div>"
      ],
      "text/plain": [
       "   publisher_id      publisher  books_total\n",
       "0           212  Penguin Books           42"
      ]
     },
     "execution_count": 9,
     "metadata": {},
     "output_type": "execute_result"
    }
   ],
   "source": [
    "query_4 = '''\n",
    "        SELECT \n",
    "            p.publisher_id,\n",
    "            p.publisher,\n",
    "            COUNT(b.book_id) AS books_total\n",
    "            \n",
    "             \n",
    "        FROM \n",
    "            books b\n",
    "        LEFT JOIN publishers p ON p.publisher_id = b.publisher_id \n",
    "        \n",
    "        WHERE\n",
    "            b.num_pages >= 50\n",
    "        \n",
    "        GROUP BY\n",
    "            p.publisher_id,\n",
    "            p.publisher\n",
    "            \n",
    "        ORDER BY\n",
    "            books_total DESC\n",
    "                       \n",
    "        LIMIT 1\n",
    "             \n",
    "        '''\n",
    "query_4 = pd.io.sql.read_sql(query_4, con = engine)\n",
    "\n",
    "query_4"
   ]
  },
  {
   "cell_type": "markdown",
   "id": "3eaa39e4",
   "metadata": {},
   "source": [
    "Наибольшее количество книг выпустило издательство Penguin Books - 42 книги"
   ]
  },
  {
   "cell_type": "markdown",
   "id": "6014a0b8",
   "metadata": {},
   "source": []
  },
  {
   "cell_type": "markdown",
   "id": "37fd9340",
   "metadata": {},
   "source": [
    "### Определите автора с самой высокой средней оценкой книг — учитывайте только книги с 50 и более оценками;"
   ]
  },
  {
   "cell_type": "code",
   "execution_count": 10,
   "id": "fa35cade",
   "metadata": {},
   "outputs": [
    {
     "data": {
      "text/html": [
       "<div>\n",
       "<style scoped>\n",
       "    .dataframe tbody tr th:only-of-type {\n",
       "        vertical-align: middle;\n",
       "    }\n",
       "\n",
       "    .dataframe tbody tr th {\n",
       "        vertical-align: top;\n",
       "    }\n",
       "\n",
       "    .dataframe thead th {\n",
       "        text-align: right;\n",
       "    }\n",
       "</style>\n",
       "<table border=\"1\" class=\"dataframe\">\n",
       "  <thead>\n",
       "    <tr style=\"text-align: right;\">\n",
       "      <th></th>\n",
       "      <th>author</th>\n",
       "      <th>avg_rating</th>\n",
       "    </tr>\n",
       "  </thead>\n",
       "  <tbody>\n",
       "    <tr>\n",
       "      <th>0</th>\n",
       "      <td>J.K. Rowling/Mary GrandPré</td>\n",
       "      <td>4.29</td>\n",
       "    </tr>\n",
       "  </tbody>\n",
       "</table>\n",
       "</div>"
      ],
      "text/plain": [
       "                       author  avg_rating\n",
       "0  J.K. Rowling/Mary GrandPré        4.29"
      ]
     },
     "execution_count": 10,
     "metadata": {},
     "output_type": "execute_result"
    }
   ],
   "source": [
    "query_5 = '''\n",
    "WITH rated_books AS\n",
    "    (SELECT b.book_id\n",
    "     FROM books b\n",
    "     LEFT JOIN ratings r ON b.book_id = r.book_id\n",
    "     GROUP BY b.book_id\n",
    "     HAVING count(DISTINCT r.rating_id) >= 50),\n",
    "\n",
    "     avg_ratings AS\n",
    "    (SELECT a.author,\n",
    "            round(avg(r.rating), 2) AS avg_rating\n",
    "     FROM books b\n",
    "     JOIN rated_books f ON b.book_id = f.book_id\n",
    "     LEFT JOIN ratings r ON b.book_id = r.book_id\n",
    "     LEFT JOIN authors a ON b.author_id = a.author_id\n",
    "     GROUP BY a.author)\n",
    "     \n",
    "SELECT *\n",
    "FROM avg_ratings a\n",
    "WHERE a.avg_rating =\n",
    "        (SELECT max(avg_rating)\n",
    "         FROM avg_ratings)\n",
    "\n",
    "        '''\n",
    "query_5 = pd.io.sql.read_sql(query_5, con = engine)\n",
    "\n",
    "query_5"
   ]
  },
  {
   "cell_type": "markdown",
   "id": "b012afc1",
   "metadata": {},
   "source": [
    "автор с самой высокой средней оценкой книг -4,29 J.K. Rowling/Mary GrandPré"
   ]
  },
  {
   "cell_type": "markdown",
   "id": "d2096e84",
   "metadata": {},
   "source": []
  },
  {
   "cell_type": "markdown",
   "id": "970ed0bb",
   "metadata": {},
   "source": [
    "### Посчитайте среднее количество обзоров от пользователей, которые поставили больше 48 оценок."
   ]
  },
  {
   "cell_type": "code",
   "execution_count": 15,
   "id": "b777bafd",
   "metadata": {},
   "outputs": [
    {
     "data": {
      "text/html": [
       "<div>\n",
       "<style scoped>\n",
       "    .dataframe tbody tr th:only-of-type {\n",
       "        vertical-align: middle;\n",
       "    }\n",
       "\n",
       "    .dataframe tbody tr th {\n",
       "        vertical-align: top;\n",
       "    }\n",
       "\n",
       "    .dataframe thead th {\n",
       "        text-align: right;\n",
       "    }\n",
       "</style>\n",
       "<table border=\"1\" class=\"dataframe\">\n",
       "  <thead>\n",
       "    <tr style=\"text-align: right;\">\n",
       "      <th></th>\n",
       "      <th>avg_review</th>\n",
       "    </tr>\n",
       "  </thead>\n",
       "  <tbody>\n",
       "    <tr>\n",
       "      <th>0</th>\n",
       "      <td>24.0</td>\n",
       "    </tr>\n",
       "  </tbody>\n",
       "</table>\n",
       "</div>"
      ],
      "text/plain": [
       "   avg_review\n",
       "0        24.0"
      ]
     },
     "execution_count": 15,
     "metadata": {},
     "output_type": "execute_result"
    }
   ],
   "source": [
    "query_5  = '''\n",
    "WITH users AS\n",
    "    (SELECT rev.username,\n",
    "            COUNT(DISTINCT rat.rating_id) AS total_ratings\n",
    "     FROM reviews rev\n",
    "     LEFT JOIN ratings rat ON rev.username = rat.username\n",
    "     GROUP BY rev.username\n",
    "     HAVING COUNT(DISTINCT rat.rating_id) > 48),\n",
    "\n",
    "     total_reviews AS\n",
    "    (SELECT r.username,\n",
    "            COUNT(DISTINCT r.review_id) AS total_reviews\n",
    "     FROM reviews r\n",
    "     GROUP BY r.username)\n",
    "     \n",
    "SELECT round(avg(tr.total_reviews)) AS avg_review\n",
    "FROM users u\n",
    "JOIN total_reviews tr ON u.username = tr.username\n",
    "'''\n",
    "\n",
    "query_5 = pd.io.sql.read_sql(query_5, con = engine)\n",
    "\n",
    "query_5"
   ]
  },
  {
   "cell_type": "markdown",
   "id": "13415899",
   "metadata": {},
   "source": [
    "среднее количество обзоров от пользователей, которые поставили больше 48 оценок - 22"
   ]
  },
  {
   "cell_type": "markdown",
   "id": "4acc3178",
   "metadata": {},
   "source": [
    "# Общий вывод"
   ]
  },
  {
   "cell_type": "markdown",
   "id": "9fa35586",
   "metadata": {},
   "source": [
    "- 819 книг были выпущены после 1 января 2000 года.\n",
    "- Больше всего обзоров у Twilight (Twilight #1) -7 шт\t- средняя оценка 3,66\n",
    "- Наибольшее количество книг выпустило издательство Penguin Books - 42 книги\n",
    "- автор с самой высокой средней оценкой книг -4,28 J.K. Rowling/Mary GrandPré\n",
    "- Пользователи, которые поставили больше 48 оценок, в среднем каждый написали 22 обзора\n",
    "\n",
    "необходимо поддерживать доступ самых издаваемых и обсуждаемых книг, которые приведены в исследовании.\n",
    "\n"
   ]
  },
  {
   "cell_type": "code",
   "execution_count": null,
   "id": "9fa8f5d7",
   "metadata": {},
   "outputs": [],
   "source": []
  }
 ],
 "metadata": {
  "ExecuteTimeLog": [
   {
    "duration": 12605,
    "start_time": "2023-05-05T21:42:17.583Z"
   },
   {
    "duration": 297,
    "start_time": "2023-05-05T21:42:30.190Z"
   },
   {
    "duration": 76,
    "start_time": "2023-05-05T21:42:30.489Z"
   },
   {
    "duration": 74,
    "start_time": "2023-05-05T21:42:30.567Z"
   },
   {
    "duration": 119,
    "start_time": "2023-05-05T21:42:30.644Z"
   },
   {
    "duration": 92,
    "start_time": "2023-05-05T21:42:30.765Z"
   },
   {
    "duration": 75,
    "start_time": "2023-05-05T21:42:30.858Z"
   },
   {
    "duration": 92,
    "start_time": "2023-05-05T21:42:30.936Z"
   },
   {
    "duration": 77,
    "start_time": "2023-05-05T21:42:31.030Z"
   },
   {
    "duration": 82,
    "start_time": "2023-05-05T21:42:31.108Z"
   },
   {
    "duration": 77,
    "start_time": "2023-05-05T21:42:31.192Z"
   },
   {
    "duration": 63,
    "start_time": "2023-05-06T08:37:11.526Z"
   },
   {
    "duration": 18804,
    "start_time": "2023-05-06T08:37:19.672Z"
   },
   {
    "duration": 319,
    "start_time": "2023-05-06T08:37:38.479Z"
   },
   {
    "duration": 73,
    "start_time": "2023-05-06T08:37:38.804Z"
   },
   {
    "duration": 78,
    "start_time": "2023-05-06T08:37:38.880Z"
   },
   {
    "duration": 133,
    "start_time": "2023-05-06T08:37:38.961Z"
   },
   {
    "duration": 103,
    "start_time": "2023-05-06T08:37:39.096Z"
   },
   {
    "duration": 73,
    "start_time": "2023-05-06T08:37:39.204Z"
   },
   {
    "duration": 98,
    "start_time": "2023-05-06T08:37:39.279Z"
   },
   {
    "duration": 83,
    "start_time": "2023-05-06T08:37:39.379Z"
   },
   {
    "duration": 91,
    "start_time": "2023-05-06T08:37:39.464Z"
   },
   {
    "duration": 285,
    "start_time": "2023-05-06T08:37:39.557Z"
   },
   {
    "duration": 0,
    "start_time": "2023-05-06T08:37:39.847Z"
   },
   {
    "duration": 199,
    "start_time": "2023-05-06T09:04:16.164Z"
   },
   {
    "duration": 156,
    "start_time": "2023-05-06T09:06:38.906Z"
   },
   {
    "duration": 121,
    "start_time": "2023-05-06T09:07:46.516Z"
   },
   {
    "duration": 205,
    "start_time": "2023-05-06T09:14:09.569Z"
   },
   {
    "duration": 188,
    "start_time": "2023-05-06T09:14:18.637Z"
   },
   {
    "duration": 103,
    "start_time": "2023-05-06T09:30:19.170Z"
   },
   {
    "duration": 116,
    "start_time": "2023-05-06T09:30:52.812Z"
   },
   {
    "duration": 7982,
    "start_time": "2023-05-06T09:31:23.036Z"
   },
   {
    "duration": 349,
    "start_time": "2023-05-06T09:31:31.021Z"
   },
   {
    "duration": 99,
    "start_time": "2023-05-06T09:31:31.372Z"
   },
   {
    "duration": 98,
    "start_time": "2023-05-06T09:31:31.473Z"
   },
   {
    "duration": 129,
    "start_time": "2023-05-06T09:31:31.574Z"
   },
   {
    "duration": 138,
    "start_time": "2023-05-06T09:31:31.705Z"
   },
   {
    "duration": 92,
    "start_time": "2023-05-06T09:31:31.846Z"
   },
   {
    "duration": 120,
    "start_time": "2023-05-06T09:31:31.940Z"
   },
   {
    "duration": 93,
    "start_time": "2023-05-06T09:31:32.062Z"
   },
   {
    "duration": 95,
    "start_time": "2023-05-06T09:31:32.156Z"
   },
   {
    "duration": 235,
    "start_time": "2023-05-06T09:31:32.253Z"
   },
   {
    "duration": 145,
    "start_time": "2023-05-06T09:42:45.328Z"
   },
   {
    "duration": 166,
    "start_time": "2023-05-06T09:44:15.422Z"
   },
   {
    "duration": 156,
    "start_time": "2023-05-06T09:44:20.846Z"
   },
   {
    "duration": 139,
    "start_time": "2023-05-06T09:45:32.828Z"
   },
   {
    "duration": 8206,
    "start_time": "2023-05-06T09:45:38.155Z"
   },
   {
    "duration": 370,
    "start_time": "2023-05-06T09:45:46.363Z"
   },
   {
    "duration": 89,
    "start_time": "2023-05-06T09:45:46.735Z"
   },
   {
    "duration": 90,
    "start_time": "2023-05-06T09:45:46.826Z"
   },
   {
    "duration": 122,
    "start_time": "2023-05-06T09:45:46.919Z"
   },
   {
    "duration": 108,
    "start_time": "2023-05-06T09:45:47.043Z"
   },
   {
    "duration": 103,
    "start_time": "2023-05-06T09:45:47.152Z"
   },
   {
    "duration": 114,
    "start_time": "2023-05-06T09:45:47.257Z"
   },
   {
    "duration": 89,
    "start_time": "2023-05-06T09:45:47.373Z"
   },
   {
    "duration": 93,
    "start_time": "2023-05-06T09:45:47.463Z"
   },
   {
    "duration": 267,
    "start_time": "2023-05-06T09:45:47.559Z"
   },
   {
    "duration": 159,
    "start_time": "2023-05-06T10:01:05.914Z"
   },
   {
    "duration": 187,
    "start_time": "2023-05-06T10:01:42.323Z"
   },
   {
    "duration": 157,
    "start_time": "2023-05-06T10:02:56.418Z"
   },
   {
    "duration": 146,
    "start_time": "2023-05-06T10:03:53.610Z"
   },
   {
    "duration": 106,
    "start_time": "2023-05-06T10:07:33.161Z"
   },
   {
    "duration": 93,
    "start_time": "2023-05-06T10:12:07.753Z"
   },
   {
    "duration": 684,
    "start_time": "2023-05-06T10:12:37.444Z"
   },
   {
    "duration": 93,
    "start_time": "2023-05-06T10:13:06.333Z"
   },
   {
    "duration": 169,
    "start_time": "2023-05-06T10:13:24.029Z"
   },
   {
    "duration": 87,
    "start_time": "2023-05-06T10:14:05.969Z"
   },
   {
    "duration": 94,
    "start_time": "2023-05-06T10:14:19.726Z"
   },
   {
    "duration": 74,
    "start_time": "2023-05-06T10:14:49.312Z"
   },
   {
    "duration": 87,
    "start_time": "2023-05-06T10:15:44.910Z"
   },
   {
    "duration": 89,
    "start_time": "2023-05-06T10:15:48.177Z"
   },
   {
    "duration": 89,
    "start_time": "2023-05-06T10:16:58.535Z"
   },
   {
    "duration": 89,
    "start_time": "2023-05-06T10:17:32.178Z"
   },
   {
    "duration": 117,
    "start_time": "2023-05-06T10:20:50.945Z"
   },
   {
    "duration": 152,
    "start_time": "2023-05-06T10:21:26.871Z"
   },
   {
    "duration": 7320,
    "start_time": "2023-05-06T10:21:47.420Z"
   },
   {
    "duration": 322,
    "start_time": "2023-05-06T10:21:54.742Z"
   },
   {
    "duration": 86,
    "start_time": "2023-05-06T10:21:55.065Z"
   },
   {
    "duration": 92,
    "start_time": "2023-05-06T10:21:55.152Z"
   },
   {
    "duration": 110,
    "start_time": "2023-05-06T10:21:55.247Z"
   },
   {
    "duration": 101,
    "start_time": "2023-05-06T10:21:55.359Z"
   },
   {
    "duration": 75,
    "start_time": "2023-05-06T10:21:55.462Z"
   },
   {
    "duration": 93,
    "start_time": "2023-05-06T10:21:55.539Z"
   },
   {
    "duration": 85,
    "start_time": "2023-05-06T10:21:55.634Z"
   },
   {
    "duration": 74,
    "start_time": "2023-05-06T10:21:55.721Z"
   },
   {
    "duration": 127,
    "start_time": "2023-05-06T10:21:55.797Z"
   },
   {
    "duration": 237,
    "start_time": "2023-05-06T10:30:04.795Z"
   },
   {
    "duration": 98,
    "start_time": "2023-05-06T10:30:19.038Z"
   },
   {
    "duration": 111,
    "start_time": "2023-05-06T10:30:38.311Z"
   },
   {
    "duration": 113,
    "start_time": "2023-05-06T10:30:57.180Z"
   }
  ],
  "kernelspec": {
   "display_name": "Python 3 (ipykernel)",
   "language": "python",
   "name": "python3"
  },
  "language_info": {
   "codemirror_mode": {
    "name": "ipython",
    "version": 3
   },
   "file_extension": ".py",
   "mimetype": "text/x-python",
   "name": "python",
   "nbconvert_exporter": "python",
   "pygments_lexer": "ipython3",
   "version": "3.9.13"
  },
  "toc": {
   "base_numbering": 1,
   "nav_menu": {},
   "number_sections": true,
   "sideBar": true,
   "skip_h1_title": true,
   "title_cell": "Table of Contents",
   "title_sidebar": "Contents",
   "toc_cell": false,
   "toc_position": {},
   "toc_section_display": true,
   "toc_window_display": true
  }
 },
 "nbformat": 4,
 "nbformat_minor": 5
}
